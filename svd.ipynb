{
 "cells": [
  {
   "cell_type": "markdown",
   "id": "fd330298",
   "metadata": {},
   "source": [
    "# Understanding SVD\n",
    "\n",
    "Diagonalisation of square matrix ??\n",
    "\n",
    "Summary:\n",
    "- 1. Definition of Singuar Values Decomposition\n",
    "- 2. SVD applied to image compression\n",
    "- 3. SVD applied to function approximation\n",
    "- 4. Linear Regression\n",
    "- 5. PCA"
   ]
  },
  {
   "cell_type": "markdown",
   "id": "82e289b9",
   "metadata": {},
   "source": [
    "## 1. Definition of Singuar Values Decomposition\n",
    "\n",
    "**Singular Value Decomposition Theorem:** Let $A$ be a real (or complex) $m \\times n$ matrix. The Singular Value Decomposition (SVD) of $A$ is a factorization of the form:\n",
    "$$\n",
    "\\mathbf{A} = \\mathbf{U} \\mathbf{\\Sigma} \\mathbf{V}^T \\qquad \\text{with} \\qquad {\\mathbf{\\Sigma}} = \\begin{bmatrix}\n",
    "    \\sigma_1 & 0 & \\cdots & 0   \\\\\n",
    "    0 & \\sigma_2 & \\ddots & \\vdots \\\\\n",
    "    \\vdots & \\ddots & \\ddots & 0 \\\\\n",
    "    \\vdots & & \\ddots &  \\sigma_m\\\\\n",
    "    \\vdots &  &  &  0 \\\\\n",
    "    0 & \\cdots & \\cdots & 0\n",
    "\\end{bmatrix} \\in \\mathbb{R}^{m \\times n}\n",
    "$$\n",
    "\n",
    "$$\n",
    "\\Sigma = \n",
    "\\begin{bmatrix}\n",
    "    \\sigma_1 & 0 & \\cdots & 0 \\\\\n",
    "    0 & \\sigma_2 & \\cdots & 0 \\\\\n",
    "    \\vdots & \\vdots & \\ddots & \\vdots \\\\\n",
    "    0 & 0 & \\cdots & \\sigma_r \\\\\n",
    "    \\hline\n",
    "    0 & \\cdots & \\cdots & 0\n",
    "\\end{bmatrix}\n",
    "\\in \\mathbb{R}^{m \\times n}\n",
    "$$\n",
    "\n",
    "where:\n",
    "- $U \\in \\mathbb{R}^{m \\times m}$ is an orthogonal matrix, i.e., $U^T U = I_m$. Its columns are the left singular vectors of $A$.\n",
    "- $V \\in \\mathbb{R}^{n \\times n}$ is an orthogonal matrix, i.e., $V^T V = I_n$. Its columns are the right singular vectors of $A$.\n",
    "- $\\Sigma \\in \\mathbb{R}^{m \\times n}$ is a diagonal matrix with the *singular values* of $\\sigma_i$ on the diagonal.\n",
    "\n",
    "The matrix $\\Sigma$ has been represented in the case $n > m$. The $\\sigma_i$ are called the singular values of $\\mathbf{A}$. They are the square roots of the eigenvalues of the matrix ${\\mathbf{A}}^H{\\mathbf{A}}$. They are necessarily *real, positive, or zero*; they can be arranged in any order, but for a given order, the decomposition is unique. From now on, we choose descending order: $\\sigma_1 \\geq \\sigma_2 \\geq \\dots \\geq \\sigma_r > 0$ (where $r = \\operatorname{rank}(A)$)\n",
    "\n",
    "The result can also be written as:  \n",
    "$${\\mathbf{A}} = {\\mathbf{U}}{\\mathbf{\\Sigma}}{\\mathbf{V}}^T = \\sum_{i=1}^r \\sigma_i {\\mathbf{u}}_i {\\mathbf{v}}_i^T$$  \n",
    "which expresses the matrix as the sum of $\\operatorname{rank}({\\mathbf{A}})$ matrices of rank-1 contributions.\n",
    "\n",
    "\n",
    "\n",
    "### Geometric Interpretation\n",
    "\n",
    "The SVD provides a geometric interpretation of the action of the matrix $A$: it maps the unit sphere in $\\mathbb{R}^n$ to an ellipsoid in $\\mathbb{R}^m$, where the axes of the ellipsoid are scaled by the singular values and oriented along the left singular vectors.\n",
    "\n",
    "### Applications of SVD\n",
    "\n",
    "SVD is a fundamental tool in linear algebra with applications in:\n",
    "\n",
    "- Principal Component Analysis (PCA)\n",
    "- Signal processing and data compression\n",
    "- Solving ill-posed linear systems\n",
    "- Latent Semantic Analysis (LSA) in natural language processing\n",
    "\n",
    "\n",
    "\n",
    "### Algorithm\n",
    "\n",
    "We will now code the SVD in the case of a real square matrix. We therefore write ${\\mathbf{A}} = {\\mathbf{U}}{\\mathbf{\\Sigma}}{\\mathbf{V}}^T$. The computation of the SVD consists in finding the eigenvalues and eigenvectors of $\\mathbf{A}\\mathbf{A}^T$ and $\\mathbf{A}^T\\mathbf{A}$. The eigenvectors of $\\mathbf{A}^T\\mathbf{A}$ form the columns of $\\mathbf{V}$, while the eigenvectors of $\\mathbf{A}\\mathbf{A}^T$ form the columns of $\\mathbf{U}$. As stated earlier, the singular values in $\\mathbf{\\Sigma}$ are the square roots of the eigenvalues of either $\\mathbf{A}\\mathbf{A}^T$ or $\\mathbf{A}^T\\mathbf{A}$.\n",
    "\n",
    "The singular values are the diagonal entries of the matrix $\\mathbf{\\Sigma}$ and are sorted in decreasing order, and the eigenvectors in U and V matrices are reordered accordingly. Since in this case $\\mathbf{A}$ is a real matrix, both $\\mathbf{U}$ and $\\mathbf{V}$ are also real. Finally, we must not forget that we must have:  \n",
    "$${\\mathbf{A}}\\mathbf{V} = \\mathbf{U}\\mathbf{\\Sigma}$$\n"
   ]
  },
  {
   "cell_type": "code",
   "execution_count": null,
   "id": "c9e1cd19",
   "metadata": {},
   "outputs": [
    {
     "name": "stdout",
     "output_type": "stream",
     "text": [
      "True\n",
      "True\n"
     ]
    }
   ],
   "source": [
    "import numpy as np\n",
    "from numpy import linalg as la\n",
    "\n",
    "n = 6\n",
    "A = np.random.random((n, n))\n",
    "\n",
    "def svd(A):\n",
    "    S, U = la.eigh(A.dot(A.T))\n",
    "    S, V = la.eigh(A.T.dot(A))\n",
    "    S = np.sqrt(S)\n",
    "    idx = S.argsort()[::-1]\n",
    "    S = S[idx]\n",
    "    U = U[:,idx]\n",
    "    V = V[:,idx]\n",
    "    # matrice de 1 et -1 pour obtenir AV = US avec test d'égalité (true=1, false=0)\n",
    "    # on fait 2 * test d'égalité - 1 -> donne true=1, false=-1\n",
    "    MS = 2 * np.isclose(A.dot(V), (U.dot(np.diag(S)))) - 1\n",
    "    V = MS * V\n",
    "    return U, S, V\n",
    "\n",
    "\n",
    "# custom function call\n",
    "U, S, V = svd(A)\n",
    "S = np.diag(S) # vector to matrix\n",
    "\n",
    "# SVD using numpy's built-in function\n",
    "Unp, Snp, Vnp = la.svd(A)\n",
    "Snp = np.diag(Snp)\n",
    "\n",
    "print(np.allclose(A, U.dot(S.dot(V.T))))\n",
    "print(np.allclose(A, Unp.dot(Snp.dot(Vnp))))"
   ]
  },
  {
   "cell_type": "markdown",
   "id": "c6ee145d",
   "metadata": {},
   "source": [
    "## 2. SVD applied to image compression\n",
    "\n",
    "$$\n",
    "\\min_{{\\operatorname{rg}({\\mathbf{B}})}=k}\\|{\\mathbf{A}}-{\\mathbf{B}}\\|_2 = \\|{\\mathbf{A}}-{\\mathbf{A}}_k\\|_2 = \\sigma_{k+1}\\quad\\text{ où } {\\mathbf{A}}_k=\\sum_{i=1}^k\\sigma_i{\\mathbf{u}}_i {\\mathbf{v}}_i^T\n",
    "$$\n",
    "\n",
    "\n",
    "On voit aussi que ${\\mathbf{A}}_k$ est le meilleur représentant de ${\\mathbf{A}}$ de rang $k$ (au sens de la norme euclidienne) et représente la borne inférieure de l'erreur commise."
   ]
  },
  {
   "cell_type": "code",
   "execution_count": null,
   "id": "536d1bf6",
   "metadata": {},
   "outputs": [
    {
     "data": {
      "image/png": "[encoded data removed]",
      "text/plain": [
       "<Figure size 1000x300 with 1 Axes>"
      ]
     },
     "metadata": {},
     "output_type": "display_data"
    },
    {
     "data": {
      "image/png": "[encoded data removed]",
      "text/plain": [
       "<Figure size 1000x300 with 1 Axes>"
      ]
     },
     "metadata": {},
     "output_type": "display_data"
    }
   ],
   "source": [
    "import math\n",
    "import numpy as np\n",
    "from numpy import linalg as la\n",
    "import matplotlib.pyplot as plt\n",
    "\n",
    "n = 20\n",
    "index = np.arange(1, n+1)\n",
    "A = np.random.random((n, n))\n",
    "U, S, V = la.svd(A)\n",
    "\n",
    "plt.figure(figsize=(10,3))\n",
    "plt.title(\"Valeurs singulières\")\n",
    "plt.bar(index, S)\n",
    "plt.xticks(index)\n",
    "plt.show()\n",
    "\n",
    "# recontruction de rang k et calcul de la norme 2 associee par rapport a la matrice complete\n",
    "norms = []\n",
    "comps = list(range(n))\n",
    "for i in range(n):\n",
    "    Ak = U[:, :comps[i]] @ np.diag(S[:comps[i]]) @ V[:comps[i], :]\n",
    "    norms += [la.norm((A-Ak),2)]\n",
    "\n",
    "plt.figure(figsize=(10,3))\n",
    "plt.title(\"$\\|{\\mathbf{A}}-{\\mathbf{A}_k}\\|_2$\")\n",
    "plt.bar(index, norms)\n",
    "plt.xticks(index)\n",
    "plt.show()\n",
    "\n"
   ]
  },
  {
   "cell_type": "code",
   "execution_count": null,
   "id": "a258bd29",
   "metadata": {},
   "outputs": [],
   "source": [
    "import math\n",
    "import numpy as np\n",
    "from numpy import linalg as la\n",
    "import matplotlib.pyplot as plt\n",
    "\n",
    "from skimage import color\n",
    "from skimage import io\n",
    "\n",
    "# Chargement de l'image et conversion en niveaux de gris\n",
    "jardin = io.imread('jardin.jpg', as_gray=True)\n",
    "jardarray = np.asarray(jardin)\n",
    "# Affichage\n",
    "plt.figure(figsize=(12, 6))\n",
    "plt.imshow(jardin, cmap='gray'),\n",
    "plt.title('Image originale')\n",
    "frame1 = plt.gca()\n",
    "frame1.axes.get_xaxis().set_ticks([])\n",
    "frame1.axes.get_yaxis().set_ticks([])\n",
    "plt.show()\n",
    "\n",
    "# SVD\n",
    "U,S,V = la.svd(jardarray)\n",
    "\n",
    "# Composantes à tracer\n",
    "comps = [1000, 1, 5, 10, 15, 20, 50, 100, 200 ]\n",
    "plt.figure(figsize=(12, 6))\n",
    "\n",
    "for i in range(len(comps)):\n",
    "    jardin_rank = U[:, :comps[i]] @ np.diag(S[:comps[i]]) @ V[:comps[i], :]\n",
    "\n",
    "    if(i == 0):\n",
    "        plt.subplot(3, 3, i+1),\n",
    "        plt.imshow(jardin, cmap='gray'),\n",
    "        plt.title(f'Image avec {comps[i]} composantes')\n",
    "        frame1 = plt.gca()\n",
    "        frame1.axes.get_xaxis().set_ticks([])\n",
    "        frame1.axes.get_yaxis().set_ticks([])\n",
    "    else:\n",
    "        plt.subplot(3, 3, i+1),\n",
    "        plt.imshow(jardin_rank, cmap='gray'),\n",
    "        plt.title(f'{comps[i]} comp.')\n",
    "        frame1 = plt.gca()\n",
    "        frame1.axes.get_xaxis().set_ticks([])\n",
    "        frame1.axes.get_yaxis().set_ticks([])\n",
    "plt.show()\n",
    "# L'originale et la version a 400 composantes\n",
    "plt.figure(figsize=(12, 6))\n",
    "plt.subplot(1, 2, 1),\n",
    "plt.imshow(jardin, cmap='gray'),\n",
    "plt.title('Image originale')\n",
    "frame1 = plt.gca()\n",
    "frame1.axes.get_xaxis().set_ticks([])\n",
    "frame1.axes.get_yaxis().set_ticks([])\n",
    "plt.subplot(1, 2, 2),\n",
    "jardin_rank = U[:, :400] @ np.diag(S[:400]) @ V[:400, :]\n",
    "plt.imshow(jardin_rank, cmap='gray'),\n",
    "plt.title('Image 400 composantes')\n",
    "frame1 = plt.gca()\n",
    "frame1.axes.get_xaxis().set_ticks([])\n",
    "frame1.axes.get_yaxis().set_ticks([])\n",
    "plt.show()\n",
    "# liste des valeurs singulières\n",
    "mylist=list(range(1,501))\n",
    "mybar = S[:500]\n",
    "plt.figure(figsize=(10,3))\n",
    "plt.title(\"Valeurs singulières\")\n",
    "plt.bar(mylist, mybar)\n",
    "plt.show()\n",
    "# Norme 2 entre image d'origine et celle de rang i\n",
    "mybar=[]\n",
    "comps = list(range(100))\n",
    "for i in range(len(comps)):\n",
    "    jardin_rank = U[:, :comps[i]] @ np.diag(S[:comps[i]]) @ V[:comps[i], :]\n",
    "    mybar = mybar + [la.norm((jardarray-jardin_rank),2)]\n",
    "\n",
    "plt.figure(figsize=(10,3))\n",
    "plt.title(\"$\\||{\\mathbf{jardin}}-{\\mathbf{jardin_k}}\\||_2$\")\n",
    "plt.bar(comps, mybar)\n",
    "plt.show()\n"
   ]
  },
  {
   "cell_type": "markdown",
   "id": "1a950269",
   "metadata": {},
   "source": [
    "## 3. SVD applied to function approximation"
   ]
  },
  {
   "cell_type": "markdown",
   "id": "53f67f38",
   "metadata": {},
   "source": [
    "## 4. Linear Regression"
   ]
  },
  {
   "cell_type": "markdown",
   "id": "26918974",
   "metadata": {},
   "source": [
    "## 5. PCA"
   ]
  }
 ],
 "metadata": {
  "kernelspec": {
   "display_name": ".venv",
   "language": "python",
   "name": "python3"
  },
  "language_info": {
   "codemirror_mode": {
    "name": "ipython",
    "version": 3
   },
   "file_extension": ".py",
   "mimetype": "text/x-python",
   "name": "python",
   "nbconvert_exporter": "python",
   "pygments_lexer": "ipython3",
   "version": "3.11.8"
  }
 },
 "nbformat": 4,
 "nbformat_minor": 5
}
